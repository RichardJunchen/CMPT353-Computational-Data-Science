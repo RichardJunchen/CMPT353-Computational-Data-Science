{
 "cells": [
  {
   "cell_type": "code",
   "execution_count": 1,
   "metadata": {},
   "outputs": [],
   "source": [
    "import numpy as np\n",
    "import pandas as pd\n",
    "from scipy import signal\n",
    "import matplotlib.pyplot as plt\n",
    "import numpy.fft as nf\n",
    "from scipy import stats\n",
    "from sklearn.linear_model import LinearRegression\n",
    "from sklearn.model_selection import train_test_split\n",
    "from sklearn.naive_bayes import GaussianNB"
   ]
  },
  {
   "cell_type": "code",
   "execution_count": 2,
   "metadata": {},
   "outputs": [],
   "source": [
    "def filter_data(df):\n",
    "    b, a = signal.butter(3, 0.15, btype='lowpass', analog=False)\n",
    "    low_passed = signal.filtfilt(b, a, df['aT (m/s^2)'])\n",
    "    #peaks,_ = signal.find_peaks(df['aT (m/s^2)'])\n",
    "    #plt.plot(df['time'],low_passed)\n",
    "    #plt.plot(df['time'],df['aT (m/s^2)'])\n",
    "    return low_passed\n",
    "\n",
    "\n",
    "def calculate_vel(df):\n",
    "    temp=df.shift(periods=-1)\n",
    "    diff_df=abs(df-temp)\n",
    "    temp_df=diff_df.shift(periods=1)\n",
    "    temp_df.iloc[0]=df.iloc[0]\n",
    "    df['diff_time']=temp_df['time']\n",
    "    df['velocity']=df['diff_time']*df['aT (m/s^2)']\n",
    "    return df\n",
    "    \n",
    "\n",
    "def calculate_delta_position(df):\n",
    "    df['position']=df['diff_time']*df['velocity']\n",
    "    return df\n",
    "\n",
    "def calculate_total_position(df):\n",
    "    df2=df\n",
    "    df2=df2.cumsum(axis=0)\n",
    "    df['total_position']=df2['position']\n",
    "    return df\n",
    "\n",
    "\n",
    "def transform_df(df):\n",
    "    #using the above function to form the final df we want\n",
    "    df['aT (m/s^2)']=filter_data(df)\n",
    "    df=calculate_vel(df)\n",
    "    df=calculate_delta_position(df)\n",
    "    df=calculate_total_position(df)\n",
    "    df = df[0:16000]\n",
    "\n",
    "    return df\n",
    "\n",
    "\n",
    "def get_model(df):\n",
    "    X=np.stack([df['time']],axis=1)\n",
    "    X_with=np.concatenate([np.ones(X.shape),X],axis=1)\n",
    "    model=LinearRegression(fit_intercept=False)\n",
    "    model.fit(X_with,df['total_position'])\n",
    "    return model\n",
    "    \n",
    "\n",
    "def get_model_train_set(df):\n",
    "    X=np.stack([df['time']],axis=1)\n",
    "    X_with=np.concatenate([np.ones(X.shape),X],axis=1)\n",
    "    X_train, X_valid, y_train, y_valid = train_test_split(X_with,df['total_position'])\n",
    "    return X_train, X_valid, y_train, y_valid\n"
   ]
  },
  {
   "cell_type": "code",
   "execution_count": 3,
   "metadata": {},
   "outputs": [],
   "source": [
    "#foot model:10 mins\n",
    "df=pd.read_csv('foot') \n",
    "df=transform_df(df)\n",
    "model_long=get_model(df)\n",
    "\n",
    "#print(model.coef_)\n",
    "\n",
    "# foot model:3 mins\n",
    "injury=pd.read_csv('injury')\n",
    "injury=transform_df(injury)\n",
    "model_short=get_model(injury)\n"
   ]
  },
  {
   "cell_type": "code",
   "execution_count": 4,
   "metadata": {},
   "outputs": [
    {
     "name": "stdout",
     "output_type": "stream",
     "text": [
      "The injury situation of input right_foot_1 is  0\n",
      "The train socre of input right_foot_1 is  -0.7223706755930259\n",
      "The valid socre of input right_foot_1 is  -0.7360801210370651\n",
      "The injury situation of input right_foot_2 is  0\n",
      "The train socre of input right_foot_2 is  0.4777120902285523\n",
      "The valid socre of input right_foot_2 is  0.4821691655643351\n",
      "The injury situation of input right_foot_3 is  0\n",
      "The train socre of input right_foot_3 is  -0.2425672693217027\n",
      "The valid socre of input right_foot_3 is  -0.2743506883479294\n",
      "The injury situation of input female_1 is  0\n",
      "The train socre of input female_1 is  -0.20359903552981828\n",
      "The valid socre of input female_1 is  -0.2158528184617805\n",
      "The injury situation of input female_2 is  0\n",
      "The train socre of input female_2 is  -0.40461328632861937\n",
      "The valid socre of input female_2 is  -0.42947852594339553\n",
      "The injury situation of input injury is  1\n",
      "The train socre of input injury is  0.9983987932474274\n",
      "The valid socre of input injury is  0.998388367797898\n",
      "The injury situation of input injury_1 is  1\n",
      "The train socre of input injury_1 is  0.6314584795128141\n",
      "The valid socre of input injury_1 is  0.6402336353291085\n",
      "The injury situation of input injury_2 is  1\n",
      "The train socre of input injury_2 is  0.513153854802755\n",
      "The valid socre of input injury_2 is  0.5022287839642208\n"
     ]
    }
   ],
   "source": [
    "list_of_title = np.array(['right_foot_1','right_foot_2','right_foot_3','female_1','female_2',\n",
    "                                    'injury','injury_1','injury_2'])\n",
    "list_of_situation = np.array(['0','0','0','0','0','1','1','1',])\n",
    "\n",
    "\n",
    "list_of_whole = []\n",
    "for i in range(8):\n",
    "    input_file = pd.read_csv(list_of_title[i])\n",
    "    input_file = transform_df(input_file)\n",
    "    \n",
    "    X_train, X_valid, y_train, y_valid = get_model_train_set(input_file)\n",
    "    \n",
    "    print(\"The injury situation of input\",list_of_title[i], \"is \", list_of_situation[i])\n",
    "    temp1 = model_short.score(X_train,y_train)\n",
    "    temp2 = model_short.score(X_valid,y_valid)\n",
    "    print(\"The train socre of input\",list_of_title[i], \"is \", temp1)\n",
    "    print(\"The valid socre of input\",list_of_title[i], \"is \", temp2)\n",
    "    list_of_whole.append([])\n",
    "    list_of_whole[i].append(temp1)\n",
    "    list_of_whole[i].append(temp2)\n",
    "    list_of_whole[i].append(list_of_situation[i])\n",
    "\n",
    "\n"
   ]
  },
  {
   "cell_type": "code",
   "execution_count": 5,
   "metadata": {},
   "outputs": [
    {
     "data": {
      "text/plain": [
       "[[-0.7223706755930259, -0.7360801210370651, '0'],\n",
       " [0.4777120902285523, 0.4821691655643351, '0'],\n",
       " [-0.2425672693217027, -0.2743506883479294, '0'],\n",
       " [-0.20359903552981828, -0.2158528184617805, '0'],\n",
       " [-0.40461328632861937, -0.42947852594339553, '0'],\n",
       " [0.9983987932474274, 0.998388367797898, '1'],\n",
       " [0.6314584795128141, 0.6402336353291085, '1'],\n",
       " [0.513153854802755, 0.5022287839642208, '1']]"
      ]
     },
     "execution_count": 5,
     "metadata": {},
     "output_type": "execute_result"
    }
   ],
   "source": [
    "list_of_whole"
   ]
  },
  {
   "cell_type": "code",
   "execution_count": 6,
   "metadata": {},
   "outputs": [
    {
     "data": {
      "text/html": [
       "<div>\n",
       "<style scoped>\n",
       "    .dataframe tbody tr th:only-of-type {\n",
       "        vertical-align: middle;\n",
       "    }\n",
       "\n",
       "    .dataframe tbody tr th {\n",
       "        vertical-align: top;\n",
       "    }\n",
       "\n",
       "    .dataframe thead th {\n",
       "        text-align: right;\n",
       "    }\n",
       "</style>\n",
       "<table border=\"1\" class=\"dataframe\">\n",
       "  <thead>\n",
       "    <tr style=\"text-align: right;\">\n",
       "      <th></th>\n",
       "      <th>train_score</th>\n",
       "      <th>valid_score</th>\n",
       "      <th>situation</th>\n",
       "    </tr>\n",
       "  </thead>\n",
       "  <tbody>\n",
       "    <tr>\n",
       "      <th>right_foot_1</th>\n",
       "      <td>-0.722371</td>\n",
       "      <td>-0.736080</td>\n",
       "      <td>0</td>\n",
       "    </tr>\n",
       "    <tr>\n",
       "      <th>right_foot_2</th>\n",
       "      <td>0.477712</td>\n",
       "      <td>0.482169</td>\n",
       "      <td>0</td>\n",
       "    </tr>\n",
       "    <tr>\n",
       "      <th>right_foot_3</th>\n",
       "      <td>-0.242567</td>\n",
       "      <td>-0.274351</td>\n",
       "      <td>0</td>\n",
       "    </tr>\n",
       "    <tr>\n",
       "      <th>female_1</th>\n",
       "      <td>-0.203599</td>\n",
       "      <td>-0.215853</td>\n",
       "      <td>0</td>\n",
       "    </tr>\n",
       "    <tr>\n",
       "      <th>female_2</th>\n",
       "      <td>-0.404613</td>\n",
       "      <td>-0.429479</td>\n",
       "      <td>0</td>\n",
       "    </tr>\n",
       "    <tr>\n",
       "      <th>injury</th>\n",
       "      <td>0.998399</td>\n",
       "      <td>0.998388</td>\n",
       "      <td>1</td>\n",
       "    </tr>\n",
       "    <tr>\n",
       "      <th>injury_1</th>\n",
       "      <td>0.631458</td>\n",
       "      <td>0.640234</td>\n",
       "      <td>1</td>\n",
       "    </tr>\n",
       "    <tr>\n",
       "      <th>injury_2</th>\n",
       "      <td>0.513154</td>\n",
       "      <td>0.502229</td>\n",
       "      <td>1</td>\n",
       "    </tr>\n",
       "  </tbody>\n",
       "</table>\n",
       "</div>"
      ],
      "text/plain": [
       "              train_score  valid_score situation\n",
       "right_foot_1    -0.722371    -0.736080         0\n",
       "right_foot_2     0.477712     0.482169         0\n",
       "right_foot_3    -0.242567    -0.274351         0\n",
       "female_1        -0.203599    -0.215853         0\n",
       "female_2        -0.404613    -0.429479         0\n",
       "injury           0.998399     0.998388         1\n",
       "injury_1         0.631458     0.640234         1\n",
       "injury_2         0.513154     0.502229         1"
      ]
     },
     "execution_count": 6,
     "metadata": {},
     "output_type": "execute_result"
    }
   ],
   "source": [
    "dataframe = pd.DataFrame(list_of_whole,columns = ['train_score','valid_score','situation'],index = ['right_foot_1','right_foot_2','right_foot_3',\n",
    "                                                        'female_1','female_2','injury','injury_1','injury_2'])\n",
    "\n",
    "dataframe"
   ]
  },
  {
   "cell_type": "code",
   "execution_count": 7,
   "metadata": {},
   "outputs": [
    {
     "name": "stdout",
     "output_type": "stream",
     "text": [
      "[[-0.21908764 -0.2347186 ]\n",
      " [ 0.71433704  0.71361693]]\n",
      "[[0.15480693 0.1610299 ]\n",
      " [0.0426782  0.04372161]]\n"
     ]
    }
   ],
   "source": [
    "#plug the dataframe into classifier\n",
    "G_model=GaussianNB()\n",
    "X=dataframe[['train_score','valid_score']]\n",
    "y=dataframe['situation']\n",
    "G_model.fit(X,y)\n",
    "print(G_model.theta_)\n",
    "print(G_model.sigma_)"
   ]
  },
  {
   "cell_type": "code",
   "execution_count": 8,
   "metadata": {},
   "outputs": [
    {
     "data": {
      "text/plain": [
       "array(['0'], dtype='<U1')"
      ]
     },
     "execution_count": 8,
     "metadata": {},
     "output_type": "execute_result"
    }
   ],
   "source": [
    "#test the model working state， and worked\n",
    "#if it fits injury_classifier and also matches the answer of normal_classifier, then true\n",
    "test=pd.read_csv('male_5')\n",
    "test=transform_df(test)\n",
    "X_train, X_valid, y_train, y_valid = get_model_train_set(test)\n",
    "temp1 = model_short.score(X_train,y_train)\n",
    "temp2 = model_short.score(X_valid,y_valid)\n",
    "X_check=[[temp1,temp2]]\n",
    "G_model.predict(X_check)"
   ]
  },
  {
   "cell_type": "code",
   "execution_count": null,
   "metadata": {},
   "outputs": [],
   "source": []
  }
 ],
 "metadata": {
  "kernelspec": {
   "display_name": "Python 3",
   "language": "python",
   "name": "python3"
  },
  "language_info": {
   "codemirror_mode": {
    "name": "ipython",
    "version": 3
   },
   "file_extension": ".py",
   "mimetype": "text/x-python",
   "name": "python",
   "nbconvert_exporter": "python",
   "pygments_lexer": "ipython3",
   "version": "3.8.3"
  }
 },
 "nbformat": 4,
 "nbformat_minor": 4
}
