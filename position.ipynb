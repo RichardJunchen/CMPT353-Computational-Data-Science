{
 "cells": [
  {
   "cell_type": "code",
   "execution_count": 1,
   "metadata": {},
   "outputs": [],
   "source": [
    "import numpy as np\n",
    "import pandas as pd\n",
    "from scipy import signal\n",
    "import matplotlib.pyplot as plt\n",
    "import numpy.fft as nf\n",
    "from scipy import stats\n",
    "from sklearn.linear_model import LinearRegression"
   ]
  },
  {
   "cell_type": "code",
   "execution_count": 2,
   "metadata": {},
   "outputs": [],
   "source": [
    "def filter_data(df):\n",
    "    b, a = signal.butter(3, 0.15, btype='lowpass', analog=False)\n",
    "    low_passed = signal.filtfilt(b, a, df['aT (m/s^2)'])\n",
    "    #peaks,_ = signal.find_peaks(df['aT (m/s^2)'])\n",
    "    #plt.plot(df['time'],low_passed)\n",
    "    #plt.plot(df['time'],df['aT (m/s^2)'])\n",
    "    return low_passed\n",
    "\n",
    "\n",
    "def calculate_vel(df):\n",
    "    temp=df.shift(periods=-1)\n",
    "    diff_df=abs(df-temp)\n",
    "    temp_df=diff_df.shift(periods=1)\n",
    "    temp_df.iloc[0]=df.iloc[0]\n",
    "    df['diff_time']=temp_df['time']\n",
    "    df['velocity']=df['diff_time']*df['aT (m/s^2)']\n",
    "    return df\n",
    "    \n",
    "\n",
    "def calculate_delta_position(df):\n",
    "    df['position']=df['diff_time']*df['velocity']\n",
    "    return df\n",
    "\n",
    "def calculate_total_position(df):\n",
    "    df2=df\n",
    "    df2=df2.cumsum(axis=0)\n",
    "    df['total_position']=df2['position']\n",
    "    return df\n",
    "\n",
    "\n",
    "def transform_df(df):\n",
    "    #using the above function to form the final df we want\n",
    "    df['aT (m/s^2)']=filter_data(df)\n",
    "    df=calculate_vel(df)\n",
    "    df=calculate_delta_position(df)\n",
    "    df=calculate_total_position(df)\n",
    "    return df\n",
    "\n",
    "    \n",
    "\n",
    "def get_model(df):\n",
    "    X=np.stack([df['time']],axis=1)\n",
    "    X_with=np.concatenate([np.ones(X.shape),X],axis=1)\n",
    "    model=LinearRegression(fit_intercept=False)\n",
    "    model.fit(X_with,df['total_position'])\n",
    "    return model\n",
    "    \n",
    "\n"
   ]
  },
  {
   "cell_type": "code",
   "execution_count": 3,
   "metadata": {},
   "outputs": [],
   "source": [
    "#foot model:10 mins\n",
    "df=pd.read_csv('foot') \n",
    "df=transform_df(df)\n",
    "model=get_model(df)\n",
    "#print(model.coef_)\n"
   ]
  },
  {
   "cell_type": "code",
   "execution_count": 4,
   "metadata": {},
   "outputs": [
    {
     "name": "stdout",
     "output_type": "stream",
     "text": [
      "0.7819066118463538\n"
     ]
    }
   ],
   "source": [
    "#enter the right foot\n",
    "right=pd.read_csv('right_foot')\n",
    "right=transform_df(right)\n",
    "X=np.stack([right['time']],axis=1)\n",
    "X_with=np.concatenate([np.ones(X.shape),X],axis=1)\n",
    "print(model.score(X_with,right['total_position']))"
   ]
  },
  {
   "cell_type": "code",
   "execution_count": 5,
   "metadata": {},
   "outputs": [
    {
     "name": "stdout",
     "output_type": "stream",
     "text": [
      "-0.6304839720741977\n"
     ]
    }
   ],
   "source": [
    "#enter the injury csv \n",
    "injury=pd.read_csv('injury')\n",
    "injury=transform_df(injury)\n",
    "X2=np.stack([injury['time']],axis=1)\n",
    "X2_with=np.concatenate([np.ones(X2.shape),X2],axis=1)\n",
    "print(model.score(X2_with,injury['total_position']))"
   ]
  },
  {
   "cell_type": "code",
   "execution_count": 6,
   "metadata": {},
   "outputs": [
    {
     "name": "stdout",
     "output_type": "stream",
     "text": [
      "0.46286119319097796\n"
     ]
    }
   ],
   "source": [
    "#enter the left foot\n",
    "left=pd.read_csv('left_foot')\n",
    "left=transform_df(left)\n",
    "X3=np.stack([left['time']],axis=1)\n",
    "X3_with=np.concatenate([np.ones(X3.shape),X3],axis=1)\n",
    "print(model.score(X3_with,left['total_position']))"
   ]
  },
  {
   "cell_type": "code",
   "execution_count": 7,
   "metadata": {},
   "outputs": [
    {
     "name": "stdout",
     "output_type": "stream",
     "text": [
      "0.8854870158220329\n",
      "-4.60730384167256\n"
     ]
    }
   ],
   "source": [
    "#right foot model: 3mins\n",
    "model_right=get_model(right)\n",
    "print(model_right.score(X3_with,left['total_position']))#left foot score\n",
    "print(model_right.score(X2_with,injury['total_position']))#injury score"
   ]
  },
  {
   "cell_type": "code",
   "execution_count": null,
   "metadata": {},
   "outputs": [],
   "source": [
    "temp_1=pd.read_csv('right_foot')\n",
    "temp_2=pd.read_csv('right_foot_1')"
   ]
  }
 ],
 "metadata": {
  "kernelspec": {
   "display_name": "Python 3",
   "language": "python",
   "name": "python3"
  },
  "language_info": {
   "codemirror_mode": {
    "name": "ipython",
    "version": 3
   },
   "file_extension": ".py",
   "mimetype": "text/x-python",
   "name": "python",
   "nbconvert_exporter": "python",
   "pygments_lexer": "ipython3",
   "version": "3.8.3"
  }
 },
 "nbformat": 4,
 "nbformat_minor": 4
}
