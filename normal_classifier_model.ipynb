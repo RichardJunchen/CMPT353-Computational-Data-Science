{
 "cells": [
  {
   "cell_type": "code",
   "execution_count": 1,
   "metadata": {},
   "outputs": [],
   "source": [
    "import numpy as np\n",
    "import pandas as pd\n",
    "from scipy import signal\n",
    "import matplotlib.pyplot as plt\n",
    "import numpy.fft as nf\n",
    "from scipy import stats\n",
    "from sklearn.linear_model import LinearRegression\n",
    "from sklearn.model_selection import train_test_split\n",
    "from sklearn.naive_bayes import GaussianNB"
   ]
  },
  {
   "cell_type": "code",
   "execution_count": 2,
   "metadata": {},
   "outputs": [],
   "source": [
    "def filter_data(df):\n",
    "    b, a = signal.butter(3, 0.15, btype='lowpass', analog=False)\n",
    "    low_passed = signal.filtfilt(b, a, df['aT (m/s^2)'])\n",
    "    #peaks,_ = signal.find_peaks(df['aT (m/s^2)'])\n",
    "    #plt.plot(df['time'],low_passed)\n",
    "    #plt.plot(df['time'],df['aT (m/s^2)'])\n",
    "    return low_passed\n",
    "\n",
    "\n",
    "def calculate_vel(df):\n",
    "    temp=df.shift(periods=-1)\n",
    "    diff_df=abs(df-temp)\n",
    "    temp_df=diff_df.shift(periods=1)\n",
    "    temp_df.iloc[0]=df.iloc[0]\n",
    "    df['diff_time']=temp_df['time']\n",
    "    df['velocity']=df['diff_time']*df['aT (m/s^2)']\n",
    "    return df\n",
    "    \n",
    "\n",
    "def calculate_delta_position(df):\n",
    "    df['position']=df['diff_time']*df['velocity']\n",
    "    return df\n",
    "\n",
    "def calculate_total_position(df):\n",
    "    df2=df\n",
    "    df2=df2.cumsum(axis=0)\n",
    "    df['total_position']=df2['position']\n",
    "    return df\n",
    "\n",
    "\n",
    "def transform_df(df):\n",
    "    #using the above function to form the final df we want\n",
    "    df['aT (m/s^2)']=filter_data(df)\n",
    "    df=calculate_vel(df)\n",
    "    df=calculate_delta_position(df)\n",
    "    df=calculate_total_position(df)\n",
    "    df = df[0:16000]\n",
    "\n",
    "    return df\n",
    "\n",
    "\n",
    "def get_model(df):\n",
    "    X=np.stack([df['time']],axis=1)\n",
    "    X_with=np.concatenate([np.ones(X.shape),X],axis=1)\n",
    "    model=LinearRegression(fit_intercept=False)\n",
    "    model.fit(X_with,df['total_position'])\n",
    "    return model\n",
    "    \n",
    "\n",
    "def get_model_train_set(df):\n",
    "    X=np.stack([df['time']],axis=1)\n",
    "    X_with=np.concatenate([np.ones(X.shape),X],axis=1)\n",
    "    X_train, X_valid, y_train, y_valid = train_test_split(X_with,df['total_position'])\n",
    "    return X_train, X_valid, y_train, y_valid\n",
    "\n"
   ]
  },
  {
   "cell_type": "code",
   "execution_count": 3,
   "metadata": {
    "scrolled": false
   },
   "outputs": [],
   "source": [
    "#foot model:10 mins\n",
    "df=pd.read_csv('foot') \n",
    "df=transform_df(df)\n",
    "model_long=get_model(df)\n",
    "\n",
    "#print(model.coef_)\n",
    "\n",
    "# foot model:3 mins\n",
    "right=pd.read_csv('right_foot')\n",
    "right=transform_df(right)\n",
    "model_short=get_model(right)\n",
    "\n"
   ]
  },
  {
   "cell_type": "code",
   "execution_count": 4,
   "metadata": {},
   "outputs": [
    {
     "name": "stdout",
     "output_type": "stream",
     "text": [
      "The right foot score (long version) in (long version) is  0.9541969864910708\n",
      "The right foot score (long version) in (short version) is  -0.5678366326635695\n",
      "The right foot score (short version) in (long version) is  -0.25827248059251473\n",
      "The right foot score (short version) in (short version) is  0.4552221778850343\n",
      "The injury foot score (long version) in (long version) is  -9.450070095947572\n",
      "The injury foot score (long version) in (short version) is  -38.00709471417785\n",
      "The injury foot score (short version) in (long version) is  0.3175096683182349\n",
      "The injury foot score (short version) in (short version) is  -4.473916943684097\n"
     ]
    }
   ],
   "source": [
    "# CHECK if length of data set will change the score (use 10min as the model)\n",
    "\n",
    "\n",
    "#enter the right foot (long)\n",
    "right_test=pd.read_csv('foot')\n",
    "right_test=transform_df(right_test)\n",
    "X=np.stack([right_test['time']],axis=1)\n",
    "X_with=np.concatenate([np.ones(X.shape),X],axis=1)\n",
    "print(\"The right foot score (long version) in (long version) is \" , model_long.score(X_with,right_test['total_position']))\n",
    "\n",
    "\n",
    "print(\"The right foot score (long version) in (short version) is \" , model_short.score(X_with,right_test['total_position']))\n",
    "\n",
    "\n",
    "\n",
    "\n",
    "#enter the right foot (short)\n",
    "right_test1=pd.read_csv('right_foot_1')\n",
    "right_test1=transform_df(right_test1)\n",
    "X=np.stack([right_test1['time']],axis=1)\n",
    "X_with=np.concatenate([np.ones(X.shape),X],axis=1)\n",
    "print(\"The right foot score (short version) in (long version) is \" , model_long.score(X_with,right_test1['total_position']))\n",
    "\n",
    "\n",
    "print(\"The right foot score (short version) in (short version) is \" , model_short.score(X_with,right_test1['total_position']))\n",
    "\n",
    "\n",
    "\n",
    "#enter the injury csv (long)\n",
    "injury=pd.read_csv('long_injury')\n",
    "injury=transform_df(injury)\n",
    "X2=np.stack([injury['time']],axis=1)\n",
    "X2_with=np.concatenate([np.ones(X2.shape),X2],axis=1)\n",
    "print(\"The injury foot score (long version) in (long version) is \",model_long.score(X2_with,injury['total_position']))\n",
    "\n",
    "print(\"The injury foot score (long version) in (short version) is \",model_short.score(X2_with,injury['total_position']))\n",
    "\n",
    "\n",
    "\n",
    "\n",
    "#enter the injury csv (short)\n",
    "\n",
    "injury1=pd.read_csv('injury')\n",
    "injury1=transform_df(injury1)\n",
    "X2=np.stack([injury1['time']],axis=1)\n",
    "X2_with=np.concatenate([np.ones(X2.shape),X2],axis=1)\n",
    "print(\"The injury foot score (short version) in (long version) is \",model_long.score(X2_with,injury1['total_position']))\n",
    "\n",
    "print(\"The injury foot score (short version) in (short version) is \",model_short.score(X2_with,injury1['total_position']))\n",
    "\n"
   ]
  },
  {
   "cell_type": "code",
   "execution_count": 5,
   "metadata": {},
   "outputs": [
    {
     "name": "stdout",
     "output_type": "stream",
     "text": [
      "The normal situation of input right_foot_1 is  0\n",
      "The train socre of input right_foot_1 is  0.45567017653995434\n",
      "The valid socre of input right_foot_1 is  0.4538761475642292\n",
      "The normal situation of input right_foot_2 is  0\n",
      "The train socre of input right_foot_2 is  0.391402191623906\n",
      "The valid socre of input right_foot_2 is  0.385542265910214\n",
      "The normal situation of input right_foot_3 is  0\n",
      "The train socre of input right_foot_3 is  0.9343007227614943\n",
      "The valid socre of input right_foot_3 is  0.9330786112624907\n",
      "The normal situation of input female_1 is  0\n",
      "The train socre of input female_1 is  0.9213090929751391\n",
      "The valid socre of input female_1 is  0.9226137396684118\n",
      "The normal situation of input female_2 is  0\n",
      "The train socre of input female_2 is  0.8038157873979389\n",
      "The valid socre of input female_2 is  0.8064990701046963\n",
      "The normal situation of input injury is  1\n",
      "The train socre of input injury is  -4.468168315320719\n",
      "The valid socre of input injury is  -4.49130750452551\n",
      "The normal situation of input injury_1 is  1\n",
      "The train socre of input injury_1 is  -13.023028198464699\n",
      "The valid socre of input injury_1 is  -13.665777531438561\n",
      "The normal situation of input injury_2 is  1\n",
      "The train socre of input injury_2 is  -12.503651618712839\n",
      "The valid socre of input injury_2 is  -12.612606024823833\n"
     ]
    }
   ],
   "source": [
    "list_of_title = np.array(['right_foot_1','right_foot_2','right_foot_3','female_1','female_2',\n",
    "                                    'injury','injury_1','injury_2'])\n",
    "list_of_situation = np.array(['0','0','0','0','0','1','1','1',])\n",
    "\n",
    "list_of_whole = []\n",
    "for i in range(8):\n",
    "    input_file = pd.read_csv(list_of_title[i])\n",
    "    input_file = transform_df(input_file)\n",
    "    \n",
    "    X_train, X_valid, y_train, y_valid = get_model_train_set(input_file)\n",
    "    \n",
    "    print(\"The normal situation of input\",list_of_title[i], \"is \", list_of_situation[i])\n",
    "    temp1 = model_short.score(X_train,y_train)\n",
    "    temp2 = model_short.score(X_valid,y_valid)\n",
    "    print(\"The train socre of input\",list_of_title[i], \"is \", temp1)\n",
    "    print(\"The valid socre of input\",list_of_title[i], \"is \", temp2)\n",
    "    list_of_whole.append([])\n",
    "    list_of_whole[i].append(temp1)\n",
    "    list_of_whole[i].append(temp2)\n",
    "    list_of_whole[i].append(list_of_situation[i])\n",
    "    \n"
   ]
  },
  {
   "cell_type": "code",
   "execution_count": 6,
   "metadata": {},
   "outputs": [
    {
     "data": {
      "text/plain": [
       "[[0.45567017653995434, 0.4538761475642292, '0'],\n",
       " [0.391402191623906, 0.385542265910214, '0'],\n",
       " [0.9343007227614943, 0.9330786112624907, '0'],\n",
       " [0.9213090929751391, 0.9226137396684118, '0'],\n",
       " [0.8038157873979389, 0.8064990701046963, '0'],\n",
       " [-4.468168315320719, -4.49130750452551, '1'],\n",
       " [-13.023028198464699, -13.665777531438561, '1'],\n",
       " [-12.503651618712839, -12.612606024823833, '1']]"
      ]
     },
     "execution_count": 6,
     "metadata": {},
     "output_type": "execute_result"
    }
   ],
   "source": [
    "list_of_whole"
   ]
  },
  {
   "cell_type": "code",
   "execution_count": 7,
   "metadata": {},
   "outputs": [
    {
     "data": {
      "text/html": [
       "<div>\n",
       "<style scoped>\n",
       "    .dataframe tbody tr th:only-of-type {\n",
       "        vertical-align: middle;\n",
       "    }\n",
       "\n",
       "    .dataframe tbody tr th {\n",
       "        vertical-align: top;\n",
       "    }\n",
       "\n",
       "    .dataframe thead th {\n",
       "        text-align: right;\n",
       "    }\n",
       "</style>\n",
       "<table border=\"1\" class=\"dataframe\">\n",
       "  <thead>\n",
       "    <tr style=\"text-align: right;\">\n",
       "      <th></th>\n",
       "      <th>train_score</th>\n",
       "      <th>valid_score</th>\n",
       "      <th>situation</th>\n",
       "    </tr>\n",
       "  </thead>\n",
       "  <tbody>\n",
       "    <tr>\n",
       "      <th>right_foot_1</th>\n",
       "      <td>0.455670</td>\n",
       "      <td>0.453876</td>\n",
       "      <td>0</td>\n",
       "    </tr>\n",
       "    <tr>\n",
       "      <th>right_foot_2</th>\n",
       "      <td>0.391402</td>\n",
       "      <td>0.385542</td>\n",
       "      <td>0</td>\n",
       "    </tr>\n",
       "    <tr>\n",
       "      <th>right_foot_3</th>\n",
       "      <td>0.934301</td>\n",
       "      <td>0.933079</td>\n",
       "      <td>0</td>\n",
       "    </tr>\n",
       "    <tr>\n",
       "      <th>female_1</th>\n",
       "      <td>0.921309</td>\n",
       "      <td>0.922614</td>\n",
       "      <td>0</td>\n",
       "    </tr>\n",
       "    <tr>\n",
       "      <th>female_2</th>\n",
       "      <td>0.803816</td>\n",
       "      <td>0.806499</td>\n",
       "      <td>0</td>\n",
       "    </tr>\n",
       "    <tr>\n",
       "      <th>injury</th>\n",
       "      <td>-4.468168</td>\n",
       "      <td>-4.491308</td>\n",
       "      <td>1</td>\n",
       "    </tr>\n",
       "    <tr>\n",
       "      <th>injury_1</th>\n",
       "      <td>-13.023028</td>\n",
       "      <td>-13.665778</td>\n",
       "      <td>1</td>\n",
       "    </tr>\n",
       "    <tr>\n",
       "      <th>injury_2</th>\n",
       "      <td>-12.503652</td>\n",
       "      <td>-12.612606</td>\n",
       "      <td>1</td>\n",
       "    </tr>\n",
       "  </tbody>\n",
       "</table>\n",
       "</div>"
      ],
      "text/plain": [
       "              train_score  valid_score situation\n",
       "right_foot_1     0.455670     0.453876         0\n",
       "right_foot_2     0.391402     0.385542         0\n",
       "right_foot_3     0.934301     0.933079         0\n",
       "female_1         0.921309     0.922614         0\n",
       "female_2         0.803816     0.806499         0\n",
       "injury          -4.468168    -4.491308         1\n",
       "injury_1       -13.023028   -13.665778         1\n",
       "injury_2       -12.503652   -12.612606         1"
      ]
     },
     "execution_count": 7,
     "metadata": {},
     "output_type": "execute_result"
    }
   ],
   "source": [
    "dataframe = pd.DataFrame(list_of_whole,columns = ['train_score','valid_score','situation'],index = ['right_foot_1','right_foot_2','right_foot_3',\n",
    "                                                        'female_1','female_2','injury','injury_1','injury_2'])\n",
    "\n",
    "dataframe"
   ]
  },
  {
   "cell_type": "code",
   "execution_count": 8,
   "metadata": {},
   "outputs": [
    {
     "data": {
      "text/plain": [
       "[<matplotlib.lines.Line2D at 0x134286febe0>]"
      ]
     },
     "execution_count": 8,
     "metadata": {},
     "output_type": "execute_result"
    },
    {
     "data": {
      "image/png": "[encoded data removed]",
      "text/plain": [
       "<Figure size 432x288 with 1 Axes>"
      ]
     },
     "metadata": {
      "needs_background": "light"
     },
     "output_type": "display_data"
    }
   ],
   "source": [
    "zero=dataframe.iloc[0:5,:]\n",
    "one=dataframe.iloc[4:7,:]\n",
    "plt.plot(zero['train_score'],zero['valid_score'],'b.')\n",
    "plt.plot(one['train_score'],one['valid_score'],'g.')\n",
    "#plt.plot(dataframe['train_score'].iloc[])"
   ]
  },
  {
   "cell_type": "code",
   "execution_count": 9,
   "metadata": {},
   "outputs": [
    {
     "name": "stdout",
     "output_type": "stream",
     "text": [
      "[[  0.70129959   0.70032197]\n",
      " [ -9.99828271 -10.25656369]]\n",
      "[[ 0.05391473  0.05493697]\n",
      " [15.33604132 16.80395116]]\n"
     ]
    }
   ],
   "source": [
    "#plug the dataframe into classifier\n",
    "G_model=GaussianNB()\n",
    "X=dataframe[['train_score','valid_score']]\n",
    "y=dataframe['situation']\n",
    "G_model.fit(X,y)\n",
    "print(G_model.theta_)\n",
    "print(G_model.sigma_)"
   ]
  },
  {
   "cell_type": "code",
   "execution_count": 15,
   "metadata": {},
   "outputs": [
    {
     "data": {
      "text/plain": [
       "array(['0'], dtype='<U1')"
      ]
     },
     "execution_count": 15,
     "metadata": {},
     "output_type": "execute_result"
    }
   ],
   "source": [
    "#test the model working state， and worked\n",
    "#if it fits injury_classifier and also matches the answer of normal_classifier, then true\n",
    "test=pd.read_csv('male_5')\n",
    "test=transform_df(test)\n",
    "X_train, X_valid, y_train, y_valid = get_model_train_set(test)\n",
    "temp1 = model_short.score(X_train,y_train)\n",
    "temp2 = model_short.score(X_valid,y_valid)\n",
    "X_check=[[temp1,temp2]]\n",
    "G_model.predict(X_check)"
   ]
  },
  {
   "cell_type": "code",
   "execution_count": null,
   "metadata": {},
   "outputs": [],
   "source": []
  },
  {
   "cell_type": "code",
   "execution_count": null,
   "metadata": {},
   "outputs": [],
   "source": []
  }
 ],
 "metadata": {
  "kernelspec": {
   "display_name": "Python 3",
   "language": "python",
   "name": "python3"
  },
  "language_info": {
   "codemirror_mode": {
    "name": "ipython",
    "version": 3
   },
   "file_extension": ".py",
   "mimetype": "text/x-python",
   "name": "python",
   "nbconvert_exporter": "python",
   "pygments_lexer": "ipython3",
   "version": "3.8.3"
  }
 },
 "nbformat": 4,
 "nbformat_minor": 4
}
